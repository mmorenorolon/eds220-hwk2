{
 "cells": [
  {
   "cell_type": "code",
   "execution_count": 1,
   "metadata": {
    "deletable": false,
    "editable": false,
    "tags": []
   },
   "outputs": [],
   "source": [
    "# Initialize Otter\n",
    "import otter\n",
    "grader = otter.Notebook(\"hwk2-task3-aqi.ipynb\")"
   ]
  },
  {
   "cell_type": "markdown",
   "metadata": {},
   "source": [
    "# Task 3: Visualizing AQI during the 2017 Thomas Fire in Santa Barbara County\n",
    "\n",
    "This task covers topics on the lesson on [time series](https://meds-eds-220.github.io/MEDS-eds-220-course/book/chapters/lesson-7-time-series.html). \n",
    "\n",
    "## Instructions \n",
    "\n",
    "- First, update the following cell to have a link to *your* Homework 2 GitHub repository:\n",
    "\n",
    "**UPDATE THIS LINK**\n",
    "https://github.com/mmorenorolon/eds220-hwk2.git\n",
    "\n",
    "\n",
    "- Review the [complete rubric for this task](https://docs.google.com/document/d/131OnUDOLpOl94SlaMU9nGqT998ABrjFS/edit?usp=sharing&ouid=111507336322611936333&rtpof=true&sd=true) before starting.\n",
    "\n",
    "- **Make at least 5 commits. Generally, commit every time you finish a major step.** We'll check your repository and view the commit history.\n",
    "\n",
    "- **Add comments for all your code.** Err on the side of commenting too much for now. Comments should follow best practices.\n",
    "\n",
    "- **Do not update the top cell with the `otter` import**, this is used internally for grading.\n",
    "\n",
    "\n",
    "## About the data\n",
    "\n",
    "In this task you will use [Air Quality Index (AQI)](https://www.airnow.gov/aqi/aqi-basics/) data from the [US Environmental Protection Agency](https://www.epa.gov) to visualize the impact on the AQI of the 2017 [Thomas Fire](https://en.wikipedia.org/wiki/Thomas_Fire) in Santa Barbara County. "
   ]
  },
  {
   "cell_type": "markdown",
   "metadata": {},
   "source": [
    "## FINAL CODE\n",
    "\n",
    "You will use the next code cell to complete the last exercise in the task. Leave it blank for now. "
   ]
  },
  {
   "cell_type": "code",
   "execution_count": null,
   "metadata": {
    "tags": []
   },
   "outputs": [],
   "source": [
    "#FINAL CODE"
   ]
  },
  {
   "cell_type": "markdown",
   "metadata": {},
   "source": [
    "## 1\n",
    "\n",
    "a. Read the [Air Quality Index (AQI) Basics](https://www.airnow.gov/aqi/aqi-basics/) from the AirNow.gov portal."
   ]
  },
  {
   "cell_type": "markdown",
   "metadata": {},
   "source": [
    "b. Go to [EPA's website on Air Quality Data Collected at Outdoor Monitors Across the US](https://www.epa.gov/outdoor-air-quality-data). "
   ]
  },
  {
   "cell_type": "markdown",
   "metadata": {},
   "source": [
    "c. Under \"Donwload Data\", click on \"Pre-generated Data Files\"."
   ]
  },
  {
   "cell_type": "markdown",
   "metadata": {},
   "source": [
    "d. Read the \"About the data\" section."
   ]
  },
  {
   "cell_type": "markdown",
   "metadata": {},
   "source": [
    "## 2\n",
    "a. Back in the \"Pre-generated Data Files\" site, click on \"Tables of Daily AQI\".\n",
    "\n",
    "b. Copy the URL to the 2017 Daily AQI **by County** ZIP file `daily_aqi_by_county_2017.zip`\n",
    "\n",
    "Notice we'll be reding the data directly from its ZIP file link. This ZIP file contains a single CSV that has been compressed to save space. "
   ]
  },
  {
   "cell_type": "markdown",
   "metadata": {
    "deletable": false,
    "editable": false
   },
   "source": [
    "<!-- BEGIN QUESTION -->\n",
    "\n",
    "c. In the next code cell read in the data from the URL using the [`pd.read_csv`](https://pandas.pydata.org/docs/reference/api/pandas.read_csv.html) function with the `compression='zip'` parameter added and store it as `aqi_17`. \n",
    "\n",
    "d. In the same cell, read in the data for the 2018 Daily AQI by County ZIP file and store it as `aqi_18`."
   ]
  },
  {
   "cell_type": "code",
   "execution_count": 5,
   "metadata": {
    "tags": []
   },
   "outputs": [],
   "source": [
    "# Load libraries\n",
    "import pandas as pd\n",
    "import numpy as np\n",
    "\n",
    "# Read in data\n",
    "aqi_17 = pd.read_csv(\"https://aqs.epa.gov/aqsweb/airdata/daily_aqi_by_county_2017.zip\", compression = 'zip')\n",
    "aqi_18 = pd.read_csv(\"https://aqs.epa.gov/aqsweb/airdata/daily_aqi_by_county_2018.zip\", compression = 'zip')"
   ]
  },
  {
   "cell_type": "markdown",
   "metadata": {
    "deletable": false,
    "editable": false
   },
   "source": [
    "<!-- END QUESTION -->\n",
    "\n",
    "## 3\n",
    "a. and b. Use the next two code cells to look at the head of both data frames. Store your results in `aqi_17_head` and `aqi_18_head`. "
   ]
  },
  {
   "cell_type": "code",
   "execution_count": 26,
   "metadata": {
    "tags": []
   },
   "outputs": [
    {
     "data": {
      "text/html": [
       "<div>\n",
       "<style scoped>\n",
       "    .dataframe tbody tr th:only-of-type {\n",
       "        vertical-align: middle;\n",
       "    }\n",
       "\n",
       "    .dataframe tbody tr th {\n",
       "        vertical-align: top;\n",
       "    }\n",
       "\n",
       "    .dataframe thead th {\n",
       "        text-align: right;\n",
       "    }\n",
       "</style>\n",
       "<table border=\"1\" class=\"dataframe\">\n",
       "  <thead>\n",
       "    <tr style=\"text-align: right;\">\n",
       "      <th></th>\n",
       "      <th>State Name</th>\n",
       "      <th>county Name</th>\n",
       "      <th>State Code</th>\n",
       "      <th>County Code</th>\n",
       "      <th>Date</th>\n",
       "      <th>AQI</th>\n",
       "      <th>Category</th>\n",
       "      <th>Defining Parameter</th>\n",
       "      <th>Defining Site</th>\n",
       "      <th>Number of Sites Reporting</th>\n",
       "    </tr>\n",
       "  </thead>\n",
       "  <tbody>\n",
       "    <tr>\n",
       "      <th>0</th>\n",
       "      <td>Alabama</td>\n",
       "      <td>Baldwin</td>\n",
       "      <td>1</td>\n",
       "      <td>3</td>\n",
       "      <td>2017-01-01</td>\n",
       "      <td>28</td>\n",
       "      <td>Good</td>\n",
       "      <td>PM2.5</td>\n",
       "      <td>01-003-0010</td>\n",
       "      <td>1</td>\n",
       "    </tr>\n",
       "    <tr>\n",
       "      <th>1</th>\n",
       "      <td>Alabama</td>\n",
       "      <td>Baldwin</td>\n",
       "      <td>1</td>\n",
       "      <td>3</td>\n",
       "      <td>2017-01-04</td>\n",
       "      <td>29</td>\n",
       "      <td>Good</td>\n",
       "      <td>PM2.5</td>\n",
       "      <td>01-003-0010</td>\n",
       "      <td>1</td>\n",
       "    </tr>\n",
       "    <tr>\n",
       "      <th>2</th>\n",
       "      <td>Alabama</td>\n",
       "      <td>Baldwin</td>\n",
       "      <td>1</td>\n",
       "      <td>3</td>\n",
       "      <td>2017-01-10</td>\n",
       "      <td>25</td>\n",
       "      <td>Good</td>\n",
       "      <td>PM2.5</td>\n",
       "      <td>01-003-0010</td>\n",
       "      <td>1</td>\n",
       "    </tr>\n",
       "    <tr>\n",
       "      <th>3</th>\n",
       "      <td>Alabama</td>\n",
       "      <td>Baldwin</td>\n",
       "      <td>1</td>\n",
       "      <td>3</td>\n",
       "      <td>2017-01-13</td>\n",
       "      <td>40</td>\n",
       "      <td>Good</td>\n",
       "      <td>PM2.5</td>\n",
       "      <td>01-003-0010</td>\n",
       "      <td>1</td>\n",
       "    </tr>\n",
       "    <tr>\n",
       "      <th>4</th>\n",
       "      <td>Alabama</td>\n",
       "      <td>Baldwin</td>\n",
       "      <td>1</td>\n",
       "      <td>3</td>\n",
       "      <td>2017-01-16</td>\n",
       "      <td>22</td>\n",
       "      <td>Good</td>\n",
       "      <td>PM2.5</td>\n",
       "      <td>01-003-0010</td>\n",
       "      <td>1</td>\n",
       "    </tr>\n",
       "  </tbody>\n",
       "</table>\n",
       "</div>"
      ],
      "text/plain": [
       "  State Name county Name  State Code  County Code        Date  AQI Category  \\\n",
       "0    Alabama     Baldwin           1            3  2017-01-01   28     Good   \n",
       "1    Alabama     Baldwin           1            3  2017-01-04   29     Good   \n",
       "2    Alabama     Baldwin           1            3  2017-01-10   25     Good   \n",
       "3    Alabama     Baldwin           1            3  2017-01-13   40     Good   \n",
       "4    Alabama     Baldwin           1            3  2017-01-16   22     Good   \n",
       "\n",
       "  Defining Parameter Defining Site  Number of Sites Reporting  \n",
       "0              PM2.5   01-003-0010                          1  \n",
       "1              PM2.5   01-003-0010                          1  \n",
       "2              PM2.5   01-003-0010                          1  \n",
       "3              PM2.5   01-003-0010                          1  \n",
       "4              PM2.5   01-003-0010                          1  "
      ]
     },
     "execution_count": 26,
     "metadata": {},
     "output_type": "execute_result"
    }
   ],
   "source": [
    "aqi_17_head"
   ]
  },
  {
   "cell_type": "code",
   "execution_count": 6,
   "metadata": {
    "tags": []
   },
   "outputs": [],
   "source": [
    "# a. View the first five rows of the aqi_17 dataframe\n",
    "aqi_17_head = aqi_17.head()"
   ]
  },
  {
   "cell_type": "code",
   "execution_count": 27,
   "metadata": {
    "tags": []
   },
   "outputs": [
    {
     "data": {
      "text/html": [
       "<div>\n",
       "<style scoped>\n",
       "    .dataframe tbody tr th:only-of-type {\n",
       "        vertical-align: middle;\n",
       "    }\n",
       "\n",
       "    .dataframe tbody tr th {\n",
       "        vertical-align: top;\n",
       "    }\n",
       "\n",
       "    .dataframe thead th {\n",
       "        text-align: right;\n",
       "    }\n",
       "</style>\n",
       "<table border=\"1\" class=\"dataframe\">\n",
       "  <thead>\n",
       "    <tr style=\"text-align: right;\">\n",
       "      <th></th>\n",
       "      <th>State Name</th>\n",
       "      <th>county Name</th>\n",
       "      <th>State Code</th>\n",
       "      <th>County Code</th>\n",
       "      <th>Date</th>\n",
       "      <th>AQI</th>\n",
       "      <th>Category</th>\n",
       "      <th>Defining Parameter</th>\n",
       "      <th>Defining Site</th>\n",
       "      <th>Number of Sites Reporting</th>\n",
       "    </tr>\n",
       "  </thead>\n",
       "  <tbody>\n",
       "    <tr>\n",
       "      <th>0</th>\n",
       "      <td>Alabama</td>\n",
       "      <td>Baldwin</td>\n",
       "      <td>1</td>\n",
       "      <td>3</td>\n",
       "      <td>2018-01-02</td>\n",
       "      <td>42</td>\n",
       "      <td>Good</td>\n",
       "      <td>PM2.5</td>\n",
       "      <td>01-003-0010</td>\n",
       "      <td>1</td>\n",
       "    </tr>\n",
       "    <tr>\n",
       "      <th>1</th>\n",
       "      <td>Alabama</td>\n",
       "      <td>Baldwin</td>\n",
       "      <td>1</td>\n",
       "      <td>3</td>\n",
       "      <td>2018-01-05</td>\n",
       "      <td>45</td>\n",
       "      <td>Good</td>\n",
       "      <td>PM2.5</td>\n",
       "      <td>01-003-0010</td>\n",
       "      <td>1</td>\n",
       "    </tr>\n",
       "    <tr>\n",
       "      <th>2</th>\n",
       "      <td>Alabama</td>\n",
       "      <td>Baldwin</td>\n",
       "      <td>1</td>\n",
       "      <td>3</td>\n",
       "      <td>2018-01-08</td>\n",
       "      <td>20</td>\n",
       "      <td>Good</td>\n",
       "      <td>PM2.5</td>\n",
       "      <td>01-003-0010</td>\n",
       "      <td>1</td>\n",
       "    </tr>\n",
       "    <tr>\n",
       "      <th>3</th>\n",
       "      <td>Alabama</td>\n",
       "      <td>Baldwin</td>\n",
       "      <td>1</td>\n",
       "      <td>3</td>\n",
       "      <td>2018-01-11</td>\n",
       "      <td>25</td>\n",
       "      <td>Good</td>\n",
       "      <td>PM2.5</td>\n",
       "      <td>01-003-0010</td>\n",
       "      <td>1</td>\n",
       "    </tr>\n",
       "    <tr>\n",
       "      <th>4</th>\n",
       "      <td>Alabama</td>\n",
       "      <td>Baldwin</td>\n",
       "      <td>1</td>\n",
       "      <td>3</td>\n",
       "      <td>2018-01-14</td>\n",
       "      <td>33</td>\n",
       "      <td>Good</td>\n",
       "      <td>PM2.5</td>\n",
       "      <td>01-003-0010</td>\n",
       "      <td>1</td>\n",
       "    </tr>\n",
       "  </tbody>\n",
       "</table>\n",
       "</div>"
      ],
      "text/plain": [
       "  State Name county Name  State Code  County Code        Date  AQI Category  \\\n",
       "0    Alabama     Baldwin           1            3  2018-01-02   42     Good   \n",
       "1    Alabama     Baldwin           1            3  2018-01-05   45     Good   \n",
       "2    Alabama     Baldwin           1            3  2018-01-08   20     Good   \n",
       "3    Alabama     Baldwin           1            3  2018-01-11   25     Good   \n",
       "4    Alabama     Baldwin           1            3  2018-01-14   33     Good   \n",
       "\n",
       "  Defining Parameter Defining Site  Number of Sites Reporting  \n",
       "0              PM2.5   01-003-0010                          1  \n",
       "1              PM2.5   01-003-0010                          1  \n",
       "2              PM2.5   01-003-0010                          1  \n",
       "3              PM2.5   01-003-0010                          1  \n",
       "4              PM2.5   01-003-0010                          1  "
      ]
     },
     "execution_count": 27,
     "metadata": {},
     "output_type": "execute_result"
    }
   ],
   "source": [
    "aqi_18_head"
   ]
  },
  {
   "cell_type": "code",
   "execution_count": 7,
   "metadata": {
    "scrolled": true,
    "tags": []
   },
   "outputs": [],
   "source": [
    "# b. View the first five rows of the aqi_18 dataframe\n",
    "aqi_18_head = aqi_18.head()"
   ]
  },
  {
   "cell_type": "code",
   "execution_count": 8,
   "metadata": {
    "deletable": false,
    "editable": false,
    "tags": []
   },
   "outputs": [
    {
     "data": {
      "text/html": [
       "<p><strong><pre style='display: inline;'>q3_a</pre></strong> passed! ✨</p>"
      ],
      "text/plain": [
       "q3_a results: All test cases passed!"
      ]
     },
     "execution_count": 8,
     "metadata": {},
     "output_type": "execute_result"
    }
   ],
   "source": [
    "grader.check(\"q3_a\")"
   ]
  },
  {
   "cell_type": "markdown",
   "metadata": {
    "deletable": false,
    "editable": false,
    "jp-MarkdownHeadingCollapsed": true
   },
   "source": [
    "<!-- BEGIN QUESTION -->\n",
    "\n",
    "c. Use this code cell to make some other preliminary data exploration of your choosing."
   ]
  },
  {
   "cell_type": "code",
   "execution_count": 25,
   "metadata": {
    "tags": []
   },
   "outputs": [
    {
     "name": "stdout",
     "output_type": "stream",
     "text": [
      "Summary statistics of aqi_17:\n",
      "           State Code    County Code            AQI  Number of Sites Reporting\n",
      "count  326801.000000  326801.000000  326801.000000              326801.000000\n",
      "mean       30.116484      79.492147      43.342609                   2.024480\n",
      "std        16.136776      89.537959      23.339487                   2.460303\n",
      "min         1.000000       1.000000       0.000000                   1.000000\n",
      "25%        17.000000      23.000000      32.000000                   1.000000\n",
      "50%        30.000000      59.000000      42.000000                   1.000000\n",
      "75%        42.000000     105.000000      52.000000                   2.000000\n",
      "max        80.000000     840.000000    3767.000000                  36.000000\n",
      "Summary statistics of aqi_18:\n",
      "           State Code    County Code            AQI  Number of Sites Reporting\n",
      "count  327541.000000  327541.000000  327541.000000              327541.000000\n",
      "mean       30.045558      79.304511      43.126421                   2.018825\n",
      "std        16.175659      88.403819      20.760634                   2.462494\n",
      "min         1.000000       1.000000       0.000000                   1.000000\n",
      "25%        17.000000      23.000000      31.000000                   1.000000\n",
      "50%        30.000000      59.000000      41.000000                   1.000000\n",
      "75%        42.000000     105.000000      52.000000                   2.000000\n",
      "max        80.000000     840.000000    1051.000000                  36.000000\n",
      "Missing values in aqi_17:\n",
      " State Name                   0\n",
      "county Name                  0\n",
      "State Code                   0\n",
      "County Code                  0\n",
      "Date                         0\n",
      "AQI                          0\n",
      "Category                     0\n",
      "Defining Parameter           0\n",
      "Defining Site                0\n",
      "Number of Sites Reporting    0\n",
      "dtype: int64\n",
      "Missing values in aqi_18:\n",
      " State Name                   0\n",
      "county Name                  0\n",
      "State Code                   0\n",
      "County Code                  0\n",
      "Date                         0\n",
      "AQI                          0\n",
      "Category                     0\n",
      "Defining Parameter           0\n",
      "Defining Site                0\n",
      "Number of Sites Reporting    0\n",
      "dtype: int64\n",
      "Shape of aqi_17:\n",
      " (326801, 10)\n",
      "Shape of aqi_18:\n",
      " (327541, 10)\n",
      "Data types of aqi_17:\n",
      " State Name                   object\n",
      "county Name                  object\n",
      "State Code                    int64\n",
      "County Code                   int64\n",
      "Date                         object\n",
      "AQI                           int64\n",
      "Category                     object\n",
      "Defining Parameter           object\n",
      "Defining Site                object\n",
      "Number of Sites Reporting     int64\n",
      "dtype: object\n",
      "Data types of aqi_18:\n",
      " State Name                   object\n",
      "county Name                  object\n",
      "State Code                    int64\n",
      "County Code                   int64\n",
      "Date                         object\n",
      "AQI                           int64\n",
      "Category                     object\n",
      "Defining Parameter           object\n",
      "Defining Site                object\n",
      "Number of Sites Reporting     int64\n",
      "dtype: object\n"
     ]
    }
   ],
   "source": [
    "# View general summary information of aqi_17\n",
    "print(\"Summary statistics of aqi_17:\\n\", aqi_17.describe())\n",
    "\n",
    "# View general summary information of aqui_18\n",
    "print(\"Summary statistics of aqi_18:\\n\", aqi_18.describe())\n",
    "\n",
    "# View the count of missing values for each column of aqi_17\n",
    "print(\"Missing values in aqi_17:\\n\", aqi_17.isnull().sum())\n",
    "\n",
    "# View the count of missing values for each column of aqi_18\n",
    "print(\"Missing values in aqi_18:\\n\", aqi_18.isnull().sum())\n",
    "\n",
    "# View the number of rows and columns of aqi_17\n",
    "print(\"Shape of aqi_17:\\n\", aqi_17.shape)\n",
    "\n",
    "# View the number of rows and columns of aqi_18\n",
    "print(\"Shape of aqi_18:\\n\", aqi_18.shape)\n",
    "\n",
    "# View the data types of aqi_17\n",
    "print(\"Data types of aqi_17:\\n\", aqi_17.dtypes)\n",
    "\n",
    "# View the data types of aqi_18\n",
    "print(\"Data types of aqi_18:\\n\", aqi_18.dtypes)"
   ]
  },
  {
   "cell_type": "code",
   "execution_count": null,
   "metadata": {
    "deletable": false,
    "editable": false
   },
   "outputs": [],
   "source": []
  },
  {
   "cell_type": "markdown",
   "metadata": {
    "deletable": false,
    "editable": false
   },
   "source": [
    "<!-- END QUESTION -->\n",
    "\n",
    "<!-- BEGIN QUESTION -->\n",
    "\n",
    "d. Use this markdown cell to explain why you decided to do the exploration in c. and what information you obtained from doing it."
   ]
  },
  {
   "cell_type": "markdown",
   "metadata": {},
   "source": [
    "I decided to follow this line of data exploration: `df.describe()`, `df.isnull().sum()`, `df.shape`, and `df.dtypes`. The data exploration of the `aqi_17` and `aqi_18` datasets reveals a collection of air quality measurements across U.S. counties for the years 2017 and 2018. Each dataset contains over 326,000 records and 10 columns. There are no missing data vallues, which ensures high data integrity. The AQI values show similar year-to-year distributions, with mean values around 43 and medians near 41–42. This detail indicates a stable and satisfactory average air quality. However, the 2017 dataset includes an unusually high maximum AQI of 3,767, which could be an outlier or data error, since the 2018 maximum is 1,051. The number of reporting sites per record is typically one, but some counties report from up to 36 sites, which seems to suggest variability in monitoring coverage. Both datasets use appropriate data types, with categorical fields stored as objects and numerical fields as integers. Overall, the datasets are clean, making them suitable for a deeper analysis into pollutant sources and air quality categories."
   ]
  },
  {
   "cell_type": "markdown",
   "metadata": {
    "deletable": false,
    "editable": false
   },
   "source": []
  },
  {
   "cell_type": "markdown",
   "metadata": {
    "deletable": false,
    "editable": false
   },
   "source": [
    "<!-- END QUESTION -->\n",
    "\n",
    "## 4\n",
    "We currently have two separate data frames. For this exercise we will need to \"glue\" them one on top of the other. The `pandas` function `pd.concat()` can achieve this. \n",
    "\n",
    "Pass `[aqi_17, aqi_18]` as the input of `pd.concat()` and store the output as  `aqi`.  \n",
    "In the next line run `aqi`.\n",
    "\n",
    "NOTE: When we concatenate data frames like this, without any extra parameters for `pd.concat()` the indices for the two dataframes are just \"glued together\", the index of the resulting dataframe is not updated to start from 0. Notice the mismatch between the index of `aqi` and the number of rows i the complete data frame.\n"
   ]
  },
  {
   "cell_type": "code",
   "execution_count": null,
   "metadata": {
    "tags": []
   },
   "outputs": [],
   "source": [
    "aqi = ...\n",
    "aqi"
   ]
  },
  {
   "cell_type": "code",
   "execution_count": null,
   "metadata": {
    "deletable": false,
    "editable": false
   },
   "outputs": [],
   "source": [
    "grader.check(\"q4\")"
   ]
  },
  {
   "cell_type": "markdown",
   "metadata": {
    "deletable": false,
    "editable": false
   },
   "source": [
    "<!-- BEGIN QUESTION -->\n",
    "\n",
    "## 5\n",
    "\n",
    "Run the following code cell and use the next markdown cell to give a line by line explanation of the code below the comment \"#Simplify column names\". You might need to look up the `pandas` documentation."
   ]
  },
  {
   "cell_type": "code",
   "execution_count": null,
   "metadata": {
    "deletable": false,
    "editable": false,
    "tags": []
   },
   "outputs": [],
   "source": [
    "# Initial column names: notice caps and spaces (difficult to work with!)\n",
    "print(aqi.columns, '\\n')\n",
    "\n",
    "# Simplify column names\n",
    "aqi.columns = (aqi.columns\n",
    "                  .str.lower()\n",
    "                  .str.replace(' ','_')\n",
    "                )\n",
    "print(aqi.columns, '\\n')"
   ]
  },
  {
   "cell_type": "markdown",
   "metadata": {
    "deletable": false,
    "editable": false
   },
   "source": [
    "<!-- END QUESTION -->\n",
    "\n",
    "## 6\n",
    "In the next code cell:\n",
    "\n",
    "a. Select only data from `Santa Barbara` county and store it in a new variable `aqi_sb`.\n",
    "\n",
    "b. Remove the `state_name`, `county_name`, `state_code` and `county_code` columns from `aqi_sb`.\n",
    "\n",
    "Your dataframe should have the following columns in this order: `date`, `aqi`, `category`, `defining_parameter`, `defining_stie`, `number_of_sites_reporting`. "
   ]
  },
  {
   "cell_type": "code",
   "execution_count": null,
   "metadata": {
    "tags": []
   },
   "outputs": [],
   "source": [
    "aqi_sb = ...\n",
    "aqi_sb = ...\n",
    "aqi_sb"
   ]
  },
  {
   "cell_type": "code",
   "execution_count": null,
   "metadata": {
    "deletable": false,
    "editable": false
   },
   "outputs": [],
   "source": [
    "grader.check(\"q6a\")"
   ]
  },
  {
   "cell_type": "markdown",
   "metadata": {
    "deletable": false,
    "editable": false
   },
   "source": [
    " \n",
    "c. What is the data type of the `date` column? Write your answer in the markdown cell below. "
   ]
  },
  {
   "cell_type": "markdown",
   "metadata": {
    "deletable": false,
    "editable": false,
    "tags": []
   },
   "source": [
    "*Your answer here.*"
   ]
  },
  {
   "cell_type": "code",
   "execution_count": null,
   "metadata": {
    "tags": []
   },
   "outputs": [],
   "source": [
    "...\n"
   ]
  },
  {
   "cell_type": "markdown",
   "metadata": {
    "deletable": false,
    "editable": false
   },
   "source": [
    "<!-- BEGIN QUESTION -->\n",
    "\n",
    "## 7\n",
    "In the following cell:\n",
    "1. Update the date column of `aqi_sb` to be a `pandas.datetime` object.\n",
    "2. Update the index of `aqi_sb` to be the `date` column."
   ]
  },
  {
   "cell_type": "code",
   "execution_count": null,
   "metadata": {
    "editable": true,
    "slideshow": {
     "slide_type": ""
    },
    "tags": [
     "remove-cell"
    ]
   },
   "outputs": [],
   "source": [
    "aqi_sb.date = ...\n",
    "aqi_sb = ...\n",
    "aqi_sb"
   ]
  },
  {
   "cell_type": "markdown",
   "metadata": {
    "deletable": false,
    "editable": false
   },
   "source": [
    "<!-- END QUESTION -->\n",
    "\n",
    "## 8\n",
    "In the next cell we will calculate an average over a [rolling window](https://pandas.pydata.org/pandas-docs/stable/reference/api/pandas.Series.rolling.html) using the `rolling()`method for `pandas.Series`:\n",
    "\n",
    "- `rolling()` is a lazy method, so we need to specify what we want to calculate over each window before it does something. \n",
    "- in this example we use the aggregator function `mean()` to calculate the average over each window\n",
    "- the parameter '5D' indicates we want the window for our rolling average to be 5 days. \n",
    "- we get a `pandas.Series` as ouput\n",
    "\n",
    "Store your answer in the `rolling_average` variable. You should have two columns in your series, `date` and the averages. "
   ]
  },
  {
   "cell_type": "code",
   "execution_count": null,
   "metadata": {
    "tags": []
   },
   "outputs": [],
   "source": [
    "# Calculate AQI rolling average over 5 days\n",
    "rolling_average = ...\n",
    "rolling_average"
   ]
  },
  {
   "cell_type": "code",
   "execution_count": null,
   "metadata": {
    "deletable": false,
    "editable": false
   },
   "outputs": [],
   "source": [
    "grader.check(\"q8\")"
   ]
  },
  {
   "cell_type": "markdown",
   "metadata": {
    "deletable": false,
    "editable": false
   },
   "source": [
    "## 9 \n",
    "\n",
    "Without creating any new variables, add the mean of the AQI over a 5-day rolling window as a new column named `five_day_average` to the `aqi_sb` dataframe. "
   ]
  },
  {
   "cell_type": "code",
   "execution_count": null,
   "metadata": {
    "tags": []
   },
   "outputs": [],
   "source": [
    "aqi_sb"
   ]
  },
  {
   "cell_type": "code",
   "execution_count": null,
   "metadata": {
    "deletable": false,
    "editable": false
   },
   "outputs": [],
   "source": [
    "grader.check(\"q9\")"
   ]
  },
  {
   "cell_type": "markdown",
   "metadata": {
    "deletable": false,
    "editable": false
   },
   "source": [
    "<!-- BEGIN QUESTION -->\n",
    "\n",
    "## 10\n",
    "Make a line plot showing both the daily AQI and the 5-day average (5-day average on top of the AQI). Make necessary updates for the plot to be accurate, informative, and polished, even if simple. You're welcome to use plotting methods and packages beyond what we have covered in class! \n",
    "\n",
    "Can you see the AQI going up during the Thomas Fire in December 2017?"
   ]
  },
  {
   "cell_type": "markdown",
   "metadata": {
    "tags": []
   },
   "source": [
    "---\n",
    "\n",
    "To double-check your work, the cell below will rerun all of the autograder tests."
   ]
  },
  {
   "cell_type": "code",
   "execution_count": null,
   "metadata": {},
   "outputs": [],
   "source": [
    "grader.check_all()"
   ]
  },
  {
   "cell_type": "markdown",
   "metadata": {
    "deletable": false,
    "editable": false,
    "tags": []
   },
   "source": [
    "<!-- END QUESTION -->\n",
    "\n",
    "## 11\n",
    "\n",
    "\n",
    "Collect all the relevant code into the first blank cell of the notebook titled \"COMPLETE WORKFLOW\". This single cell will have the end-to-end workflow: from importing libraries and loading the data, to producing the graph. The *only* ouput of this cell should be the graph you produced in the previous exercise. Further guidance on what to include in this final workflow is in the [assignment rubric](https://docs.google.com/document/d/1x0BoU6IH4cnOR1-n7i9CYQ9wUC37yDpYlQ4j6rCfcsU/edit?tab=t.0)."
   ]
  }
 ],
 "metadata": {
  "kernelspec": {
   "display_name": "EDS220",
   "language": "python",
   "name": "eds220-env"
  },
  "language_info": {
   "codemirror_mode": {
    "name": "ipython",
    "version": 3
   },
   "file_extension": ".py",
   "mimetype": "text/x-python",
   "name": "python",
   "nbconvert_exporter": "python",
   "pygments_lexer": "ipython3",
   "version": "3.11.4"
  },
  "vscode": {
   "interpreter": {
    "hash": "4d9c35c8115062f8f91024dabb290da02183a26877d6f60ace8c62884141c720"
   }
  }
 },
 "nbformat": 4,
 "nbformat_minor": 4
}
